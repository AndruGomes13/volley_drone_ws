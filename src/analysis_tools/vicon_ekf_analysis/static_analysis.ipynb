{
 "cells": [
  {
   "cell_type": "markdown",
   "id": "f697838a",
   "metadata": {},
   "source": [
    "# Analysis of static Vicon and EKF noise characteristics "
   ]
  },
  {
   "cell_type": "code",
   "execution_count": 61,
   "id": "c12b541b",
   "metadata": {},
   "outputs": [
    {
     "name": "stdout",
     "output_type": "stream",
     "text": [
      "The autoreload extension is already loaded. To reload it, use:\n",
      "  %reload_ext autoreload\n"
     ]
    }
   ],
   "source": [
    "%load_ext autoreload\n",
    "%autoreload 2\n",
    "\n",
    "import scipy\n",
    "import pandas as pd\n",
    "import numpy as np\n",
    "from pathlib import Path\n",
    "from scipy.spatial.transform import Rotation as R\n",
    "import loading_utils as lu\n",
    "import analysis_utils as au\n",
    "import plotting_utils as pu"
   ]
  },
  {
   "cell_type": "code",
   "execution_count": 62,
   "id": "b78252d2",
   "metadata": {},
   "outputs": [
    {
     "name": "stdout",
     "output_type": "stream",
     "text": [
      "No timestamp violations found in state estimates.\n",
      "No timestamp violations found in Vicon data.\n"
     ]
    }
   ],
   "source": [
    "# Data Loading\n",
    "state_csv = Path(\"~/catkin_ws/ros_logs/state_log.csv\")\n",
    "mocap_csv = Path(\"~/catkin_ws/ros_logs/mocap_log.csv\")\n",
    "state_estimates = lu.QuadStateEstimates.from_csv(state_csv)\n",
    "vicon_measurements = lu.ViconMeasurements.from_csv(mocap_csv)\n"
   ]
  },
  {
   "cell_type": "markdown",
   "id": "bc1fc020",
   "metadata": {},
   "source": [
    "# Vicon Noise Analysis\n",
    "\n",
    "This section analyzes the noise characteristics of the Vicon motion capture system measurements. We will explore the data, visualize the noise, and discuss its implications for state estimation and sensor fusion.\n",
    "\n",
    "**Contents:**\n",
    "- Statistical analysis of noise\n",
    "- Visualization of position and orientation noise"
   ]
  },
  {
   "cell_type": "code",
   "execution_count": 63,
   "id": "0c8e6632",
   "metadata": {},
   "outputs": [
    {
     "name": "stdout",
     "output_type": "stream",
     "text": [
      "Vicon Position Mean:\n",
      " X: -0.0406;    Y: 0.2767;    Z: 0.1052\n",
      "Vicon Position Std Dev:\n",
      " X: 0.00000740;    Y: 0.00000510;    Z: 0.00001010\n",
      "Vicon Position 95th Percentile:\n",
      " X: 0.00001220;    Y: 0.00000824;    Z: 0.00001697\n",
      "Vicon Position 99th Percentile:\n",
      " X: 0.00001736;    Y: 0.00001175;    Z: 0.00002272\n",
      "Vicon Position Max Deviation:\n",
      " X: 0.00002800;    Y: 0.00002299;    Z: 0.00003444\n",
      "Vicon Position RMS:\n",
      " X: 0.00000740;    Y: 0.00000510;    Z: 0.00001010\n",
      "Vicon Position Covariance Matrix (rows/cols: X, Y, Z):\n",
      "         X           Y           Z\n",
      "X  5.4834e-11  1.0015e-11  2.7271e-11\n",
      "Y  1.0015e-11  2.6023e-11  7.3476e-12\n",
      "Z  2.7271e-11  7.3476e-12  1.0200e-10\n"
     ]
    }
   ],
   "source": [
    "# --- Position Analysis ---\n",
    "vicon_stats = au.position_analysis(vicon_measurements.position.to_numpy())\n",
    "au.print_position_analysis(vicon_stats, label=\"Vicon Position\")"
   ]
  },
  {
   "cell_type": "code",
   "execution_count": 64,
   "id": "8db25304",
   "metadata": {},
   "outputs": [
    {
     "name": "stdout",
     "output_type": "stream",
     "text": [
      "Vicon Orientation Mean (as quaternion):\n",
      " W: 0.99800;    X: -0.00267;    Y: 0.01854;    Z: 0.06034\n",
      "Vicon Orientation Std Dev (as deg):\n",
      " X: 0.00485678;    Y: 0.00616042;    Z: 0.00160449\n",
      "Vicon Orientation Vector RMS (as deg):\n",
      " X: 0.00485678;    Y: 0.00616042;    Z: 0.00160449\n",
      "Vicon Orientation Covariance Matrix (rows/cols: x, y, z):\n",
      "         x           y           z\n",
      "x  7.1860e-09  -8.1712e-09  -9.8517e-10\n",
      "y  -8.1712e-09  1.1561e-08  4.8050e-10\n",
      "z  -9.8517e-10  4.8050e-10  7.8427e-10\n"
     ]
    }
   ],
   "source": [
    "# --- Orientation Analysis ---\n",
    "vicon_R = R.from_quat(vicon_measurements.orientation, scalar_first=True)\n",
    "vicon_R_stats = au.orientation_analysis(vicon_R)\n",
    "au.print_orientation_analysis(vicon_R_stats, label=\"Vicon Orientation\")"
   ]
  },
  {
   "cell_type": "markdown",
   "id": "f2376c76",
   "metadata": {},
   "source": [
    "# EKF Noise Analysis"
   ]
  },
  {
   "cell_type": "code",
   "execution_count": 65,
   "id": "07024ab8",
   "metadata": {},
   "outputs": [
    {
     "name": "stdout",
     "output_type": "stream",
     "text": [
      "EKF Position Mean:\n",
      " X: -0.0406;    Y: 0.2767;    Z: 0.1052\n",
      "EKF Position Std Dev:\n",
      " X: 0.00000582;    Y: 0.00000453;    Z: 0.00000854\n",
      "EKF Position 95th Percentile:\n",
      " X: 0.00000946;    Y: 0.00000745;    Z: 0.00001419\n",
      "EKF Position 99th Percentile:\n",
      " X: 0.00001412;    Y: 0.00001033;    Z: 0.00001948\n",
      "EKF Position Max Deviation:\n",
      " X: 0.00002179;    Y: 0.00001664;    Z: 0.00002860\n",
      "EKF Position RMS:\n",
      " X: 0.00000582;    Y: 0.00000453;    Z: 0.00000854\n",
      "EKF Position Covariance Matrix (rows/cols: X, Y, Z):\n",
      "         X           Y           Z\n",
      "X  3.3837e-11  3.8622e-12  1.4008e-11\n",
      "Y  3.8622e-12  2.0512e-11  3.9879e-13\n",
      "Z  1.4008e-11  3.9879e-13  7.2882e-11\n"
     ]
    }
   ],
   "source": [
    "# --- Position Analysis ---\n",
    "ekf_stats = au.position_analysis(state_estimates.position.to_numpy())\n",
    "au.print_position_analysis(ekf_stats, label=\"EKF Position\")\n"
   ]
  },
  {
   "cell_type": "code",
   "execution_count": 66,
   "id": "08886ee8",
   "metadata": {},
   "outputs": [
    {
     "name": "stdout",
     "output_type": "stream",
     "text": [
      "EKF Orientation Mean (as quaternion):\n",
      " W: 0.99800;    X: -0.00267;    Y: 0.01854;    Z: 0.06034\n",
      "EKF Orientation Std Dev (as deg):\n",
      " X: 0.00493851;    Y: 0.00626142;    Z: 0.00165666\n",
      "EKF Orientation Vector RMS (as deg):\n",
      " X: 0.00493851;    Y: 0.00626142;    Z: 0.00165666\n",
      "EKF Orientation Covariance Matrix (rows/cols: x, y, z):\n",
      "         x           y           z\n",
      "x  7.4315e-09  -8.3746e-09  -1.0322e-09\n",
      "y  -8.3746e-09  1.1946e-08  4.7159e-10\n",
      "z  -1.0322e-09  4.7159e-10  8.3628e-10\n"
     ]
    }
   ],
   "source": [
    "# --- Orientation Analysis ---\n",
    "ekf_R = R.from_quat(state_estimates.orientation, scalar_first=True)\n",
    "ekf_R_stats = au.orientation_analysis(ekf_R)\n",
    "au.print_orientation_analysis(ekf_R_stats, label=\"EKF Orientation\")"
   ]
  },
  {
   "cell_type": "code",
   "execution_count": 67,
   "id": "ab04dfcd",
   "metadata": {},
   "outputs": [
    {
     "name": "stdout",
     "output_type": "stream",
     "text": [
      "EKF Velocity Mean:\n",
      " X: 0.0000;    Y: 0.0000;    Z: 0.0000\n",
      "EKF Velocity Std Dev:\n",
      " X: 0.00019275;    Y: 0.00016145;    Z: 0.00030768\n",
      "EKF Velocity 95th Percentile:\n",
      " X: 0.00031689;    Y: 0.00026885;    Z: 0.00051520\n",
      "EKF Velocity 99th Percentile:\n",
      " X: 0.00045698;    Y: 0.00037544;    Z: 0.00069897\n",
      "EKF Velocity Max Deviation:\n",
      " X: 0.00065459;    Y: 0.00051459;    Z: 0.00103181\n",
      "EKF Velocity RMS:\n",
      " X: 0.00019275;    Y: 0.00016145;    Z: 0.00030768\n",
      "EKF Velocity Covariance Matrix (rows/cols: X, Y, Z):\n",
      "         X           Y           Z\n",
      "X  3.7165e-08  5.7448e-09  1.7401e-08\n",
      "Y  5.7448e-09  2.6073e-08  -6.6419e-09\n",
      "Z  1.7401e-08  -6.6419e-09  9.4693e-08\n"
     ]
    }
   ],
   "source": [
    "# --- Linear Velocity Analysis ---\n",
    "# Given that the Quad is static, we can analyze the velocity estimates as they were position measurements.\n",
    "ekf_vel_stats = au.position_analysis(state_estimates.velocity_linear.to_numpy())\n",
    "au.print_position_analysis(ekf_vel_stats, label=\"EKF Velocity\")"
   ]
  },
  {
   "cell_type": "code",
   "execution_count": 68,
   "id": "0c4e0167",
   "metadata": {},
   "outputs": [
    {
     "name": "stdout",
     "output_type": "stream",
     "text": [
      "EKF Linear Acceleration Mean:\n",
      " X: 0.0000;    Y: 0.0000;    Z: 0.0000\n",
      "EKF Linear Acceleration Std Dev:\n",
      " X: 0.00152731;    Y: 0.00128360;    Z: 0.00244574\n",
      "EKF Linear Acceleration 95th Percentile:\n",
      " X: 0.00250580;    Y: 0.00211907;    Z: 0.00412004\n",
      "EKF Linear Acceleration 99th Percentile:\n",
      " X: 0.00358214;    Y: 0.00296279;    Z: 0.00547322\n",
      "EKF Linear Acceleration Max Deviation:\n",
      " X: 0.00512871;    Y: 0.00419481;    Z: 0.00838427\n",
      "EKF Linear Acceleration RMS:\n",
      " X: 0.00152731;    Y: 0.00128360;    Z: 0.00244574\n",
      "EKF Linear Acceleration Covariance Matrix (rows/cols: X, Y, Z):\n",
      "         X           Y           Z\n",
      "X  2.3334e-06  3.6421e-07  1.0856e-06\n",
      "Y  3.6421e-07  1.6481e-06  -4.2960e-07\n",
      "Z  1.0856e-06  -4.2960e-07  5.9834e-06\n"
     ]
    }
   ],
   "source": [
    "# --- Linear Acceleration Analysis ---\n",
    "# Given that the Quad is static, we can analyze the linear acceleration estimates as they were position measurements.\n",
    "ekf_acc_stats = au.position_analysis(state_estimates.acceleration_linear.to_numpy())\n",
    "au.print_position_analysis(ekf_acc_stats, label=\"EKF Linear Acceleration\")"
   ]
  },
  {
   "cell_type": "code",
   "execution_count": 69,
   "id": "72e1bd0b",
   "metadata": {},
   "outputs": [
    {
     "name": "stdout",
     "output_type": "stream",
     "text": [
      "EKF Angular Velocity Mean:\n",
      " X: 0.0000;    Y: -0.0000;    Z: 0.0000\n",
      "EKF Angular Velocity Std Dev:\n",
      " X: 0.00512194;    Y: 0.00811427;    Z: 0.00191860\n",
      "EKF Angular Velocity 95th Percentile:\n",
      " X: 0.00798774;    Y: 0.01345704;    Z: 0.00318530\n",
      "EKF Angular Velocity 99th Percentile:\n",
      " X: 0.01048987;    Y: 0.01740311;    Z: 0.00446355\n",
      "EKF Angular Velocity Max Deviation:\n",
      " X: 0.01523307;    Y: 0.02189308;    Z: 0.00657795\n",
      "EKF Angular Velocity RMS:\n",
      " X: 0.00512194;    Y: 0.00811427;    Z: 0.00191860\n",
      "EKF Angular Velocity Covariance Matrix (rows/cols: X, Y, Z):\n",
      "         X           Y           Z\n",
      "X  2.6242e-05  -3.5954e-05  -3.8710e-06\n",
      "Y  -3.5954e-05  6.5861e-05  1.7048e-06\n",
      "Z  -3.8710e-06  1.7048e-06  3.6821e-06\n",
      "Maximum body rate deviation (deg/s): \n",
      " X: 0.87279;   Y: 1.25438;   Z: 0.37689;\n"
     ]
    }
   ],
   "source": [
    "# --- Angular Velocity Analysis ---\n",
    "# Given that the Quad is static, we can analyze the angular velocity estimates as they were position measurements.\n",
    "ekf_ang_vel_stats = au.position_analysis(state_estimates.velocity_angular.to_numpy())\n",
    "au.print_position_analysis(ekf_ang_vel_stats, label=\"EKF Angular Velocity\")\n",
    "\n",
    "print(f\"Maximum body rate deviation (deg/s): \\n X: {np.rad2deg(ekf_ang_vel_stats.max_deviation[0]):.5f};   Y: {np.rad2deg(ekf_ang_vel_stats.max_deviation[1]):.5f};   Z: {np.rad2deg(ekf_ang_vel_stats.max_deviation[2]):.5f};\" )"
   ]
  },
  {
   "cell_type": "markdown",
   "id": "be4dce06",
   "metadata": {},
   "source": [
    "# Pseudo-Innovation Analysis\n",
    "- Using the EKF to Vicon residuals"
   ]
  },
  {
   "cell_type": "code",
   "execution_count": null,
   "id": "f02fde59",
   "metadata": {},
   "outputs": [
    {
     "name": "stdout",
     "output_type": "stream",
     "text": [
      "EKF Position Mean:\n",
      " X: 0.0000;    Y: 0.0000;    Z: 0.0000\n",
      "EKF Position Std Dev:\n",
      " X: 0.00002449;    Y: 0.00004718;    Z: 0.00007559\n",
      "EKF Position 95th Percentile:\n",
      " X: 0.00001197;    Y: 0.00000785;    Z: 0.00001535\n",
      "EKF Position 99th Percentile:\n",
      " X: 0.00001746;    Y: 0.00001182;    Z: 0.00002256\n",
      "EKF Position Max Deviation:\n",
      " X: 0.00135558;    Y: 0.00272390;    Z: 0.00435082\n",
      "EKF Position RMS:\n",
      " X: 0.00002449;    Y: 0.00004718;    Z: 0.00007559\n",
      "EKF Position Covariance Matrix (rows/cols: X, Y, Z):\n",
      "         X           Y           Z\n",
      "X  6.0001e-10  1.1055e-09  1.7766e-09\n",
      "Y  1.1055e-09  2.2267e-09  3.5150e-09\n",
      "Z  1.7766e-09  3.5150e-09  5.7161e-09\n"
     ]
    }
   ],
   "source": [
    "# --- Position Interpolation ---\n",
    "vicon_positions_interp , valid_interp_idx=au.interpolate_position(vicon_measurements.position.to_numpy(), vicon_measurements.time.to_numpy(), state_estimates.time.to_numpy())\n",
    "efk_positions_interp = state_estimates.position.to_numpy()[valid_interp_idx]\n",
    "efk_to_vicon_positions = efk_positions_interp - vicon_positions_interp\n",
    "# --- Position Analysis ---\n",
    "ekf_to_vicon_stats = au.position_analysis(efk_to_vicon_positions)\n",
    "au.print_position_analysis(ekf_to_vicon_stats, label=\"EKF Position\")\n"
   ]
  },
  {
   "cell_type": "code",
   "execution_count": 78,
   "id": "00bca28d",
   "metadata": {},
   "outputs": [
    {
     "ename": "NameError",
     "evalue": "name 'Slerp' is not defined",
     "output_type": "error",
     "traceback": [
      "\u001b[31m---------------------------------------------------------------------------\u001b[39m",
      "\u001b[31mNameError\u001b[39m                                 Traceback (most recent call last)",
      "\u001b[36mCell\u001b[39m\u001b[36m \u001b[39m\u001b[32mIn[78]\u001b[39m\u001b[32m, line 2\u001b[39m\n\u001b[32m      1\u001b[39m \u001b[38;5;66;03m# --- Orientation Interpolation ---\u001b[39;00m\n\u001b[32m----> \u001b[39m\u001b[32m2\u001b[39m vicon_orientation_interp, valid_interp_idx = \u001b[43mau\u001b[49m\u001b[43m.\u001b[49m\u001b[43minterpolate_orientation\u001b[49m\u001b[43m(\u001b[49m\u001b[43mR\u001b[49m\u001b[43m.\u001b[49m\u001b[43mfrom_quat\u001b[49m\u001b[43m(\u001b[49m\u001b[43mvicon_measurements\u001b[49m\u001b[43m.\u001b[49m\u001b[43morientation\u001b[49m\u001b[43m.\u001b[49m\u001b[43mto_numpy\u001b[49m\u001b[43m(\u001b[49m\u001b[43m)\u001b[49m\u001b[43m,\u001b[49m\u001b[43m \u001b[49m\u001b[43mscalar_first\u001b[49m\u001b[43m=\u001b[49m\u001b[38;5;28;43;01mTrue\u001b[39;49;00m\u001b[43m)\u001b[49m\u001b[43m,\u001b[49m\u001b[43m \u001b[49m\u001b[43mvicon_measurements\u001b[49m\u001b[43m.\u001b[49m\u001b[43mtime\u001b[49m\u001b[43m.\u001b[49m\u001b[43mto_numpy\u001b[49m\u001b[43m(\u001b[49m\u001b[43m)\u001b[49m\u001b[43m,\u001b[49m\u001b[43m \u001b[49m\u001b[43mstate_estimates\u001b[49m\u001b[43m.\u001b[49m\u001b[43mtime\u001b[49m\u001b[43m.\u001b[49m\u001b[43mto_numpy\u001b[49m\u001b[43m(\u001b[49m\u001b[43m)\u001b[49m\u001b[43m)\u001b[49m\n",
      "\u001b[36mFile \u001b[39m\u001b[32m<string>:17\u001b[39m, in \u001b[36minterpolate_orientation\u001b[39m\u001b[34m(original_orientations, original_timestamps, new_timestamps)\u001b[39m\n",
      "\u001b[31mNameError\u001b[39m: name 'Slerp' is not defined"
     ]
    }
   ],
   "source": [
    "# --- Orientation Interpolation ---\n",
    "vicon_orientation_interp, valid_interp_idx = au.interpolate_orientation(R.from_quat(vicon_measurements.orientation.to_numpy(), scalar_first=True), vicon_measurements.time.to_numpy(), state_estimates.time.to_numpy())\n"
   ]
  },
  {
   "cell_type": "markdown",
   "id": "db6cd15f",
   "metadata": {},
   "source": [
    "# Vicon Noise Characteristics"
   ]
  },
  {
   "cell_type": "code",
   "execution_count": null,
   "id": "d979afce",
   "metadata": {},
   "outputs": [
    {
     "name": "stdout",
     "output_type": "stream",
     "text": [
      "=== ACF Analysis Summary ===\n",
      "95% confidence band under white-noise null: [-0.0158, 0.0158]\n",
      "Total lags checked: 2000 (excluding lag=0)\n",
      "Significant lags: 838\n",
      "\n",
      "Top 10 significant lags:\n",
      "  Lag   0: ACF=+1.0000\n",
      "  Lag   1: ACF=+0.2624\n",
      "  Lag   3: ACF=+0.2166\n",
      "  Lag   2: ACF=+0.2157\n",
      "  Lag   4: ACF=+0.2100\n",
      "  Lag  46: ACF=+0.1923\n",
      "  Lag   5: ACF=+0.1922\n",
      "  Lag   6: ACF=+0.1799\n",
      "  Lag   7: ACF=+0.1577\n",
      "  Lag   8: ACF=+0.1529\n"
     ]
    }
   ],
   "source": [
    "acf_x = au.compute_acf(vicon_measurements.position.to_numpy()[:,0])\n",
    "acf_y = au.compute_acf(vicon_measurements.position.to_numpy()[:,1])\n",
    "acf_z = au.compute_acf(vicon_measurements.position.to_numpy()[:,2])\n",
    "\n",
    "# pu.plot_acf_plotly(acf_x, title=\"X ACF with 95% bounds\")\n",
    "au.print_acf_analysis(acf_x)\n"
   ]
  },
  {
   "cell_type": "markdown",
   "id": "1db2cabd",
   "metadata": {},
   "source": [
    "# EKF Noise Characteristics"
   ]
  },
  {
   "cell_type": "code",
   "execution_count": null,
   "id": "1ba695b8",
   "metadata": {},
   "outputs": [
    {
     "name": "stdout",
     "output_type": "stream",
     "text": [
      "=== ACF Analysis Summary ===\n",
      "95% confidence band under white-noise null: [-0.0287, 0.0287]\n",
      "Total lags checked: 1165 (excluding lag=0)\n",
      "Significant lags: 528\n",
      "\n",
      "Top 10 significant lags:\n",
      "  Lag   0: ACF=+1.0000\n",
      "  Lag   1: ACF=+0.5830\n",
      "  Lag   2: ACF=+0.3010\n",
      "  Lag  17: ACF=+0.2381\n",
      "  Lag  51: ACF=+0.2378\n",
      "  Lag  18: ACF=+0.2240\n",
      "  Lag  19: ACF=+0.2010\n",
      "  Lag  50: ACF=+0.1888\n",
      "  Lag  52: ACF=+0.1872\n",
      "  Lag  16: ACF=+0.1776\n"
     ]
    }
   ],
   "source": [
    "acf_x = au.compute_acf(state_estimates.position.to_numpy()[:,0])\n",
    "acf_y = au.compute_acf(state_estimates.position.to_numpy()[:,1])\n",
    "acf_z = au.compute_acf(state_estimates.position.to_numpy()[:,2])\n",
    "\n",
    "# pu.plot_acf_plotly(acf_x, title=\"X ACF with 95% bounds\")\n",
    "\n",
    "au.print_acf_analysis(acf_x)\n",
    "\n"
   ]
  }
 ],
 "metadata": {
  "kernelspec": {
   "display_name": "Python 3",
   "language": "python",
   "name": "python3"
  },
  "language_info": {
   "codemirror_mode": {
    "name": "ipython",
    "version": 3
   },
   "file_extension": ".py",
   "mimetype": "text/x-python",
   "name": "python",
   "nbconvert_exporter": "python",
   "pygments_lexer": "ipython3",
   "version": "3.11.13"
  }
 },
 "nbformat": 4,
 "nbformat_minor": 5
}
