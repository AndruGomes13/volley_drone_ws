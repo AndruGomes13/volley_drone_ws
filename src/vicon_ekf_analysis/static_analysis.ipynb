{
 "cells": [
  {
   "cell_type": "markdown",
   "id": "f697838a",
   "metadata": {},
   "source": [
    "# Analysis of static Vicon and EKF noise characteristics "
   ]
  },
  {
   "cell_type": "code",
   "execution_count": 8,
   "id": "c12b541b",
   "metadata": {},
   "outputs": [
    {
     "name": "stdout",
     "output_type": "stream",
     "text": [
      "The autoreload extension is already loaded. To reload it, use:\n",
      "  %reload_ext autoreload\n"
     ]
    }
   ],
   "source": [
    "%load_ext autoreload\n",
    "%autoreload 2\n",
    "\n",
    "import scipy\n",
    "import pandas as pd\n",
    "import numpy as np\n",
    "from pathlib import Path\n",
    "from scipy.spatial.transform import Rotation as R\n",
    "import loading_utils as lu\n",
    "import analysis_utils as au\n",
    "import plotting_utils as pu"
   ]
  },
  {
   "cell_type": "code",
   "execution_count": 21,
   "id": "b78252d2",
   "metadata": {},
   "outputs": [
    {
     "name": "stdout",
     "output_type": "stream",
     "text": [
      "Number of Vicon timestamp violations: 6289\n",
      "Vicon states with timestamp violations:\n",
      "        header_stamp  header_seq header_frame     pos_x     pos_y     pos_z  \\\n",
      "59     5.536884e+07       30107        world -0.040651  0.276753  0.105203   \n",
      "61     1.755369e+09       30108        world -0.040652  0.276763  0.105220   \n",
      "63     1.755369e+09       30109        world -0.040649  0.276756  0.105206   \n",
      "65     1.755369e+09       30110        world -0.040648  0.276775  0.105217   \n",
      "67     1.755369e+09       30111        world -0.040628  0.276770  0.105223   \n",
      "...             ...         ...          ...       ...       ...       ...   \n",
      "14698  1.755369e+09       38564        world -0.040654  0.276760  0.105201   \n",
      "14700  1.755369e+09       38565        world -0.040663  0.276755  0.105214   \n",
      "14702  1.755369e+09       38566        world -0.040666  0.276756  0.105213   \n",
      "14704  1.755369e+09       38567        world -0.040651  0.276759  0.105211   \n",
      "14788  1.755369e+09       38651        world -0.040649  0.276752  0.105216   \n",
      "\n",
      "         quat_x    quat_y    quat_z    quat_w  \n",
      "59    -0.003025  0.018534  0.060529  0.997990  \n",
      "61    -0.003104  0.018627  0.060496  0.997990  \n",
      "63    -0.003033  0.018506  0.060519  0.997991  \n",
      "65    -0.003078  0.018622  0.060496  0.997990  \n",
      "67    -0.003070  0.018609  0.060458  0.997993  \n",
      "...         ...       ...       ...       ...  \n",
      "14698 -0.003019  0.018537  0.060512  0.997991  \n",
      "14700 -0.003048  0.018537  0.060539  0.997989  \n",
      "14702 -0.003041  0.018541  0.060516  0.997990  \n",
      "14704 -0.003012  0.018525  0.060498  0.997992  \n",
      "14788 -0.003045  0.018511  0.060524  0.997990  \n",
      "\n",
      "[6289 rows x 10 columns]\n"
     ]
    }
   ],
   "source": [
    "# Data Loading\n",
    "state_csv = Path(\"~/catkin_ws/ros_logs/state_log.csv\")\n",
    "mocap_csv = Path(\"~/catkin_ws/ros_logs/mocap_log.csv\")\n",
    "state_estimates = lu.QuadStateEstimates.from_csv(state_csv)\n",
    "vicon_measurements = lu.ViconMeasurements.from_csv(mocap_csv)\n",
    "\n",
    "# Check for unsorted timestamps and print the number of violations and the states\n",
    "unsorted = np.diff(vicon_measurements.time) <= 0\n",
    "indices = np.where(unsorted)[0] + 1  # +1 to get the index of the unsorted element\n",
    "print(\"Number of Vicon timestamp violations:\", np.sum(unsorted))\n",
    "print(\"Vicon states with timestamp violations:\\n\", vicon_measurements.df.iloc[indices])"
   ]
  },
  {
   "cell_type": "markdown",
   "id": "bc1fc020",
   "metadata": {},
   "source": [
    "# Vicon Noise Analysis\n",
    "\n",
    "This section analyzes the noise characteristics of the Vicon motion capture system measurements. We will explore the data, visualize the noise, and discuss its implications for state estimation and sensor fusion.\n",
    "\n",
    "**Contents:**\n",
    "- Statistical analysis of noise\n",
    "- Visualization of position and orientation noise"
   ]
  },
  {
   "cell_type": "code",
   "execution_count": 3,
   "id": "0c8e6632",
   "metadata": {},
   "outputs": [
    {
     "name": "stdout",
     "output_type": "stream",
     "text": [
      "Vicon Position Mean:\n",
      " X: -0.0407;    Y: 0.2768;    Z: 0.1052\n",
      "Vicon Position Std Dev:\n",
      " X: 0.00000828;    Y: 0.00000717;    Z: 0.00000838\n",
      "Vicon Position 95th Percentile:\n",
      " X: 0.00001372;    Y: 0.00001240;    Z: 0.00001396\n",
      "Vicon Position 99th Percentile:\n",
      " X: 0.00001935;    Y: 0.00001726;    Z: 0.00001991\n",
      "Vicon Position Max Deviation:\n",
      " X: 0.00003198;    Y: 0.00002725;    Z: 0.00003526\n",
      "Vicon Position RMS:\n",
      " X: 0.00000828;    Y: 0.00000717;    Z: 0.00000838\n",
      "Vicon Position Covariance Matrix (rows/cols: X, Y, Z):\n",
      "         X           Y           Z\n",
      "X  6.8490e-11  2.5619e-11  3.0473e-11\n",
      "Y  2.5619e-11  5.1474e-11  2.3879e-11\n",
      "Z  3.0473e-11  2.3879e-11  7.0232e-11\n"
     ]
    }
   ],
   "source": [
    "# --- Position Analysis ---\n",
    "vicon_stats = au.position_analysis(vicon_measurements.position.to_numpy())\n",
    "au.print_position_analysis(vicon_stats, label=\"Vicon Position\")"
   ]
  },
  {
   "cell_type": "code",
   "execution_count": 4,
   "id": "8db25304",
   "metadata": {},
   "outputs": [
    {
     "name": "stdout",
     "output_type": "stream",
     "text": [
      "Vicon Orientation Mean (as quaternion):\n",
      " W: 0.99799;    X: -0.00304;    Y: 0.01855;    Z: 0.06051\n",
      "Vicon Orientation Std Dev (as deg):\n",
      " X: 0.00431272;    Y: 0.00445195;    Z: 0.00213834\n",
      "Vicon Orientation Vector RMS (as deg):\n",
      " X: 0.00431272;    Y: 0.00445195;    Z: 0.00213834\n",
      "Vicon Orientation Covariance Matrix (rows/cols: x, y, z):\n",
      "         x           y           z\n",
      "x  5.6661e-09  -4.8490e-09  2.8372e-10\n",
      "y  -4.8490e-09  6.0379e-09  -1.2279e-09\n",
      "z  2.8372e-10  -1.2279e-09  1.3930e-09\n"
     ]
    }
   ],
   "source": [
    "# --- Orientation Analysis ---\n",
    "vicon_R = R.from_quat(vicon_measurements.orientation, scalar_first=True)\n",
    "vicon_R_stats = au.orientation_analysis(vicon_R)\n",
    "au.print_orientation_analysis(vicon_R_stats, label=\"Vicon Orientation\")"
   ]
  },
  {
   "cell_type": "markdown",
   "id": "f2376c76",
   "metadata": {},
   "source": [
    "# EKF Noise Analysis"
   ]
  },
  {
   "cell_type": "code",
   "execution_count": 5,
   "id": "07024ab8",
   "metadata": {},
   "outputs": [
    {
     "name": "stdout",
     "output_type": "stream",
     "text": [
      "EKF Position Mean:\n",
      " X: -0.0407;    Y: 0.2768;    Z: 0.1052\n",
      "EKF Position Std Dev:\n",
      " X: 0.00000697;    Y: 0.00000611;    Z: 0.00000860\n",
      "EKF Position 95th Percentile:\n",
      " X: 0.00001165;    Y: 0.00001026;    Z: 0.00001482\n",
      "EKF Position 99th Percentile:\n",
      " X: 0.00001588;    Y: 0.00001438;    Z: 0.00002098\n",
      "EKF Position Max Deviation:\n",
      " X: 0.00002370;    Y: 0.00001942;    Z: 0.00003191\n",
      "EKF Position RMS:\n",
      " X: 0.00000697;    Y: 0.00000611;    Z: 0.00000860\n",
      "EKF Position Covariance Matrix (rows/cols: X, Y, Z):\n",
      "         X           Y           Z\n",
      "X  4.8541e-11  1.4021e-11  2.1938e-11\n",
      "Y  1.4021e-11  3.7284e-11  1.0543e-11\n",
      "Z  2.1938e-11  1.0543e-11  7.3908e-11\n"
     ]
    }
   ],
   "source": [
    "# --- Position Analysis ---\n",
    "ekf_stats = au.position_analysis(state_estimates.position.to_numpy())\n",
    "au.print_position_analysis(ekf_stats, label=\"EKF Position\")\n"
   ]
  },
  {
   "cell_type": "code",
   "execution_count": 6,
   "id": "08886ee8",
   "metadata": {},
   "outputs": [
    {
     "name": "stdout",
     "output_type": "stream",
     "text": [
      "EKF Orientation Mean (as quaternion):\n",
      " W: 0.99799;    X: -0.00304;    Y: 0.01855;    Z: 0.06051\n",
      "EKF Orientation Std Dev (as deg):\n",
      " X: 0.00498905;    Y: 0.00511241;    Z: 0.00251177\n",
      "EKF Orientation Vector RMS (as deg):\n",
      " X: 0.00498905;    Y: 0.00511241;    Z: 0.00251177\n",
      "EKF Orientation Covariance Matrix (rows/cols: x, y, z):\n",
      "         x           y           z\n",
      "x  7.5837e-09  -6.3500e-09  2.4887e-10\n",
      "y  -6.3500e-09  7.9634e-09  -1.6116e-09\n",
      "z  2.4887e-10  -1.6116e-09  1.9222e-09\n"
     ]
    }
   ],
   "source": [
    "# --- Orientation Analysis ---\n",
    "ekf_R = R.from_quat(state_estimates.orientation, scalar_first=True)\n",
    "ekf_R_stats = au.orientation_analysis(ekf_R)\n",
    "au.print_orientation_analysis(ekf_R_stats, label=\"EKF Orientation\")"
   ]
  },
  {
   "cell_type": "code",
   "execution_count": 7,
   "id": "ab04dfcd",
   "metadata": {},
   "outputs": [
    {
     "name": "stdout",
     "output_type": "stream",
     "text": [
      "EKF Velocity Mean:\n",
      " X: -0.0000;    Y: 0.0000;    Z: 0.0000\n",
      "EKF Velocity Std Dev:\n",
      " X: 0.00023545;    Y: 0.00020985;    Z: 0.00030518\n",
      "EKF Velocity 95th Percentile:\n",
      " X: 0.00038688;    Y: 0.00035727;    Z: 0.00051369\n",
      "EKF Velocity 99th Percentile:\n",
      " X: 0.00052885;    Y: 0.00046881;    Z: 0.00071180\n",
      "EKF Velocity Max Deviation:\n",
      " X: 0.00089310;    Y: 0.00071925;    Z: 0.00108899\n",
      "EKF Velocity RMS:\n",
      " X: 0.00023545;    Y: 0.00020985;    Z: 0.00030518\n",
      "EKF Velocity Covariance Matrix (rows/cols: X, Y, Z):\n",
      "         X           Y           Z\n",
      "X  5.5450e-08  1.9056e-08  2.8925e-08\n",
      "Y  1.9056e-08  4.4045e-08  9.3775e-09\n",
      "Z  2.8925e-08  9.3775e-09  9.3157e-08\n"
     ]
    }
   ],
   "source": [
    "# --- Linear Velocity Analysis ---\n",
    "# Given that the Quad is static, we can analyze the velocity estimates as they were position measurements.\n",
    "ekf_vel_stats = au.position_analysis(state_estimates.velocity_linear.to_numpy())\n",
    "au.print_position_analysis(ekf_vel_stats, label=\"EKF Velocity\")"
   ]
  },
  {
   "cell_type": "code",
   "execution_count": 8,
   "id": "0c4e0167",
   "metadata": {},
   "outputs": [
    {
     "name": "stdout",
     "output_type": "stream",
     "text": [
      "EKF Linear Acceleration Mean:\n",
      " X: -0.0000;    Y: 0.0000;    Z: 0.0000\n",
      "EKF Linear Acceleration Std Dev:\n",
      " X: 0.00184113;    Y: 0.00164473;    Z: 0.00239222\n",
      "EKF Linear Acceleration 95th Percentile:\n",
      " X: 0.00306998;    Y: 0.00276120;    Z: 0.00399772\n",
      "EKF Linear Acceleration 99th Percentile:\n",
      " X: 0.00422018;    Y: 0.00370575;    Z: 0.00559291\n",
      "EKF Linear Acceleration Max Deviation:\n",
      " X: 0.00700350;    Y: 0.00560087;    Z: 0.00843016\n",
      "EKF Linear Acceleration RMS:\n",
      " X: 0.00184113;    Y: 0.00164473;    Z: 0.00239222\n",
      "EKF Linear Acceleration Covariance Matrix (rows/cols: X, Y, Z):\n",
      "         X           Y           Z\n",
      "X  3.3905e-06  1.1689e-06  1.7803e-06\n",
      "Y  1.1689e-06  2.7057e-06  5.8046e-07\n",
      "Z  1.7803e-06  5.8046e-07  5.7239e-06\n"
     ]
    }
   ],
   "source": [
    "# --- Linear Acceleration Analysis ---\n",
    "# Given that the Quad is static, we can analyze the linear acceleration estimates as they were position measurements.\n",
    "ekf_acc_stats = au.position_analysis(state_estimates.acceleration_linear.to_numpy())\n",
    "au.print_position_analysis(ekf_acc_stats, label=\"EKF Linear Acceleration\")"
   ]
  },
  {
   "cell_type": "code",
   "execution_count": 9,
   "id": "72e1bd0b",
   "metadata": {},
   "outputs": [
    {
     "name": "stdout",
     "output_type": "stream",
     "text": [
      "EKF Angular Velocity Mean:\n",
      " X: -0.0000;    Y: 0.0001;    Z: -0.0000\n",
      "EKF Angular Velocity Std Dev:\n",
      " X: 0.00475065;    Y: 0.00592231;    Z: 0.00270282\n",
      "EKF Angular Velocity 95th Percentile:\n",
      " X: 0.00737947;    Y: 0.01134479;    Z: 0.00437854\n",
      "EKF Angular Velocity 99th Percentile:\n",
      " X: 0.00990502;    Y: 0.01489149;    Z: 0.00590201\n",
      "EKF Angular Velocity Max Deviation:\n",
      " X: 0.01697227;    Y: 0.01912344;    Z: 0.01032466\n",
      "EKF Angular Velocity RMS:\n",
      " X: 0.00475065;    Y: 0.00592231;    Z: 0.00270282\n",
      "EKF Angular Velocity Covariance Matrix (rows/cols: X, Y, Z):\n",
      "         X           Y           Z\n",
      "X  2.2574e-05  -2.2388e-05  5.7833e-07\n",
      "Y  -2.2388e-05  3.5081e-05  -6.5863e-06\n",
      "Z  5.7833e-07  -6.5863e-06  7.3068e-06\n",
      "Maximum body rate deviation (deg/s): \n",
      " X: 0.97244;   Y: 1.09569;   Z: 0.59156;\n"
     ]
    }
   ],
   "source": [
    "# --- Angular Velocity Analysis ---\n",
    "# Given that the Quad is static, we can analyze the angular velocity estimates as they were position measurements.\n",
    "ekf_ang_vel_stats = au.position_analysis(state_estimates.velocity_angular.to_numpy())\n",
    "au.print_position_analysis(ekf_ang_vel_stats, label=\"EKF Angular Velocity\")\n",
    "\n",
    "print(f\"Maximum body rate deviation (deg/s): \\n X: {np.rad2deg(ekf_ang_vel_stats.max_deviation[0]):.5f};   Y: {np.rad2deg(ekf_ang_vel_stats.max_deviation[1]):.5f};   Z: {np.rad2deg(ekf_ang_vel_stats.max_deviation[2]):.5f};\" )"
   ]
  },
  {
   "cell_type": "markdown",
   "id": "be4dce06",
   "metadata": {},
   "source": [
    "# Pseudo-Innovation Analysis\n",
    "- Using the EKF to Vicon residuals"
   ]
  },
  {
   "cell_type": "code",
   "execution_count": 11,
   "id": "f02fde59",
   "metadata": {},
   "outputs": [
    {
     "ename": "AssertionError",
     "evalue": "Original timestamps must be sorted.",
     "output_type": "error",
     "traceback": [
      "\u001b[31m---------------------------------------------------------------------------\u001b[39m",
      "\u001b[31mAssertionError\u001b[39m                            Traceback (most recent call last)",
      "\u001b[36mCell\u001b[39m\u001b[36m \u001b[39m\u001b[32mIn[11]\u001b[39m\u001b[32m, line 8\u001b[39m\n\u001b[32m      1\u001b[39m \u001b[38;5;66;03m# ekf_to_vicon_positions = state_estimates.position.to_numpy() - vicon_measurements.position.to_numpy()\u001b[39;00m\n\u001b[32m      2\u001b[39m \u001b[38;5;66;03m# ekf_to_vicon_R = R.from_quat(state_estimates.orientation, scalar_first=True)*R.from_quat(vicon_measurements.orientation, scalar_first=True)\u001b[39;00m\n\u001b[32m      3\u001b[39m \n\u001b[32m      4\u001b[39m \u001b[38;5;66;03m# --- Position Analysis ---\u001b[39;00m\n\u001b[32m      5\u001b[39m \u001b[38;5;66;03m# ekf_stats = au.position_analysis(state_estimates.position.to_numpy())\u001b[39;00m\n\u001b[32m      6\u001b[39m \u001b[38;5;66;03m# au.print_position_analysis(ekf_stats, label=\"EKF Position\")\u001b[39;00m\n\u001b[32m----> \u001b[39m\u001b[32m8\u001b[39m \u001b[43mau\u001b[49m\u001b[43m.\u001b[49m\u001b[43minterpolate_position\u001b[49m\u001b[43m(\u001b[49m\u001b[43mvicon_measurements\u001b[49m\u001b[43m.\u001b[49m\u001b[43mposition\u001b[49m\u001b[43m.\u001b[49m\u001b[43mto_numpy\u001b[49m\u001b[43m(\u001b[49m\u001b[43m)\u001b[49m\u001b[43m,\u001b[49m\u001b[43m \u001b[49m\u001b[43mvicon_measurements\u001b[49m\u001b[43m.\u001b[49m\u001b[43mtime\u001b[49m\u001b[43m.\u001b[49m\u001b[43mto_numpy\u001b[49m\u001b[43m(\u001b[49m\u001b[43m)\u001b[49m\u001b[43m,\u001b[49m\u001b[43m \u001b[49m\u001b[43mstate_estimates\u001b[49m\u001b[43m.\u001b[49m\u001b[43mtime\u001b[49m\u001b[43m.\u001b[49m\u001b[43mto_numpy\u001b[49m\u001b[43m(\u001b[49m\u001b[43m)\u001b[49m\u001b[43m)\u001b[49m\n",
      "\u001b[36mFile \u001b[39m\u001b[32m~/catkin_ws/src/vicon_ekf_analysis/analysis_utils.py:210\u001b[39m, in \u001b[36minterpolate_position\u001b[39m\u001b[34m(original_positions, original_timestamps, new_timestamps)\u001b[39m\n\u001b[32m    202\u001b[39m \u001b[38;5;28;01mdef\u001b[39;00m\u001b[38;5;250m \u001b[39m\u001b[34minterpolate_position\u001b[39m(original_positions: np.ndarray, original_timestamps: np.ndarray, new_timestamps: np.ndarray) -> np.ndarray:\n\u001b[32m    203\u001b[39m \u001b[38;5;250m    \u001b[39m\u001b[33;03m\"\"\"\u001b[39;00m\n\u001b[32m    204\u001b[39m \u001b[33;03m    Interpolate positions to match new timestamps.\u001b[39;00m\n\u001b[32m    205\u001b[39m \u001b[33;03m    original_positions: Nx3 array of positions (x, y, z).\u001b[39;00m\n\u001b[32m   (...)\u001b[39m\u001b[32m    208\u001b[39m \u001b[33;03m    Returns interpolated positions as a 2D array with shape (len(new_timestamps), 3).\u001b[39;00m\n\u001b[32m    209\u001b[39m \u001b[33;03m    \"\"\"\u001b[39;00m\n\u001b[32m--> \u001b[39m\u001b[32m210\u001b[39m     \u001b[38;5;28;01massert\u001b[39;00m np.all(np.diff(original_timestamps) >= \u001b[32m0\u001b[39m), \u001b[33m\"\u001b[39m\u001b[33mOriginal timestamps must be sorted.\u001b[39m\u001b[33m\"\u001b[39m\n\u001b[32m    211\u001b[39m     \u001b[38;5;28;01massert\u001b[39;00m np.all(np.diff(new_timestamps) >= \u001b[32m0\u001b[39m), \u001b[33m\"\u001b[39m\u001b[33mNew timestamps must be sorted.\u001b[39m\u001b[33m\"\u001b[39m\n\u001b[32m    212\u001b[39m     \u001b[38;5;28;01massert\u001b[39;00m original_positions.shape[\u001b[32m1\u001b[39m] == \u001b[32m3\u001b[39m, \u001b[33m\"\u001b[39m\u001b[33mOriginal positions must have shape Nx3.\u001b[39m\u001b[33m\"\u001b[39m\n",
      "\u001b[31mAssertionError\u001b[39m: Original timestamps must be sorted."
     ]
    }
   ],
   "source": [
    "# ekf_to_vicon_positions = state_estimates.position.to_numpy() - vicon_measurements.position.to_numpy()\n",
    "# ekf_to_vicon_R = R.from_quat(state_estimates.orientation, scalar_first=True)*R.from_quat(vicon_measurements.orientation, scalar_first=True)\n",
    "\n",
    "# --- Position Analysis ---\n",
    "# ekf_stats = au.position_analysis(state_estimates.position.to_numpy())\n",
    "# au.print_position_analysis(ekf_stats, label=\"EKF Position\")\n",
    "\n",
    "au.interpolate_position(vicon_measurements.position.to_numpy(), vicon_measurements.time.to_numpy(), state_estimates.time.to_numpy())\n",
    "\n"
   ]
  },
  {
   "cell_type": "markdown",
   "id": "db6cd15f",
   "metadata": {},
   "source": [
    "# Vicon Noise Characteristics"
   ]
  },
  {
   "cell_type": "code",
   "execution_count": 12,
   "id": "d979afce",
   "metadata": {},
   "outputs": [
    {
     "name": "stdout",
     "output_type": "stream",
     "text": [
      "=== ACF Analysis Summary ===\n",
      "95% confidence band under white-noise null: [-0.0158, 0.0158]\n",
      "Total lags checked: 2000 (excluding lag=0)\n",
      "Significant lags: 838\n",
      "\n",
      "Top 10 significant lags:\n",
      "  Lag   0: ACF=+1.0000\n",
      "  Lag   1: ACF=+0.2624\n",
      "  Lag   3: ACF=+0.2166\n",
      "  Lag   2: ACF=+0.2157\n",
      "  Lag   4: ACF=+0.2100\n",
      "  Lag  46: ACF=+0.1923\n",
      "  Lag   5: ACF=+0.1922\n",
      "  Lag   6: ACF=+0.1799\n",
      "  Lag   7: ACF=+0.1577\n",
      "  Lag   8: ACF=+0.1529\n"
     ]
    }
   ],
   "source": [
    "acf_x = au.compute_acf(vicon_measurements.position.to_numpy()[:,0])\n",
    "acf_y = au.compute_acf(vicon_measurements.position.to_numpy()[:,1])\n",
    "acf_z = au.compute_acf(vicon_measurements.position.to_numpy()[:,2])\n",
    "\n",
    "# pu.plot_acf_plotly(acf_x, title=\"X ACF with 95% bounds\")\n",
    "au.print_acf_analysis(acf_x)\n"
   ]
  },
  {
   "cell_type": "markdown",
   "id": "1db2cabd",
   "metadata": {},
   "source": [
    "# EKF Noise Characteristics"
   ]
  },
  {
   "cell_type": "code",
   "execution_count": 13,
   "id": "1ba695b8",
   "metadata": {},
   "outputs": [
    {
     "name": "stdout",
     "output_type": "stream",
     "text": [
      "=== ACF Analysis Summary ===\n",
      "95% confidence band under white-noise null: [-0.0287, 0.0287]\n",
      "Total lags checked: 1165 (excluding lag=0)\n",
      "Significant lags: 528\n",
      "\n",
      "Top 10 significant lags:\n",
      "  Lag   0: ACF=+1.0000\n",
      "  Lag   1: ACF=+0.5830\n",
      "  Lag   2: ACF=+0.3010\n",
      "  Lag  17: ACF=+0.2381\n",
      "  Lag  51: ACF=+0.2378\n",
      "  Lag  18: ACF=+0.2240\n",
      "  Lag  19: ACF=+0.2010\n",
      "  Lag  50: ACF=+0.1888\n",
      "  Lag  52: ACF=+0.1872\n",
      "  Lag  16: ACF=+0.1776\n"
     ]
    }
   ],
   "source": [
    "acf_x = au.compute_acf(state_estimates.position.to_numpy()[:,0])\n",
    "acf_y = au.compute_acf(state_estimates.position.to_numpy()[:,1])\n",
    "acf_z = au.compute_acf(state_estimates.position.to_numpy()[:,2])\n",
    "\n",
    "# pu.plot_acf_plotly(acf_x, title=\"X ACF with 95% bounds\")\n",
    "\n",
    "au.print_acf_analysis(acf_x)\n",
    "\n"
   ]
  }
 ],
 "metadata": {
  "kernelspec": {
   "display_name": "Python 3",
   "language": "python",
   "name": "python3"
  },
  "language_info": {
   "codemirror_mode": {
    "name": "ipython",
    "version": 3
   },
   "file_extension": ".py",
   "mimetype": "text/x-python",
   "name": "python",
   "nbconvert_exporter": "python",
   "pygments_lexer": "ipython3",
   "version": "3.11.13"
  }
 },
 "nbformat": 4,
 "nbformat_minor": 5
}
